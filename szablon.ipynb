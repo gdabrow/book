{
  "nbformat": 4,
  "nbformat_minor": 0,
  "metadata": {
    "colab": {
      "provenance": [],
      "authorship_tag": "ABX9TyPW7HpEiKAu+8w064rp/vUH",
      "include_colab_link": true
    },
    "kernelspec": {
      "name": "python3",
      "display_name": "Python 3"
    },
    "language_info": {
      "name": "python"
    }
  },
  "cells": [
    {
      "cell_type": "markdown",
      "metadata": {
        "id": "view-in-github",
        "colab_type": "text"
      },
      "source": [
        "<a href=\"https://colab.research.google.com/github/gdabrow/book/blob/master/szablon.ipynb\" target=\"_parent\"><img src=\"https://colab.research.google.com/assets/colab-badge.svg\" alt=\"Open In Colab\"/></a>"
      ]
    },
    {
      "cell_type": "markdown",
      "source": [
        "**Session maintenance in colab (browser developer tools)**"
      ],
      "metadata": {
        "id": "szNO3nX2RjGG"
      }
    },
    {
      "cell_type": "code",
      "source": [
        "function ClickConnect(){\n",
        "  console.log('Working');\n",
        "  document.querySelector('colab-toolbar-button#toolbar-add-code').click();\n",
        "  \n",
        "} \n",
        "intervalTiming = setInterval(ClickConnect, 30000);\n",
        "\n",
        "#or\n",
        "\n",
        "function ConnectButton(){\n",
        "    console.log(\"Connect pushed\"); \n",
        "    document.querySelector(\"#top-toolbar > colab-connect-button\").shadowRoot.querySelector(\"#connect\").click() \n",
        "}\n",
        "intervalTiming = setInterval(ConnectButton,60000);\n",
        "\n",
        "\n",
        "\n",
        "ffff\n"
      ],
      "metadata": {
        "id": "A35SFknlj1fZ"
      },
      "execution_count": null,
      "outputs": []
    },
    {
      "cell_type": "markdown",
      "source": [
        "**Disable session keeping (browser developer tools)**"
      ],
      "metadata": {
        "id": "3XMSWYoOSE5a"
      }
    },
    {
      "cell_type": "code",
      "source": [
        "clearInterval(intervalTiming);"
      ],
      "metadata": {
        "id": "QyZMYZjQkEJG"
      },
      "execution_count": null,
      "outputs": []
    },
    {
      "cell_type": "markdown",
      "source": [
        "**Another way to keep session alive**"
      ],
      "metadata": {
        "id": "dDdm3uSQSzkE"
      }
    },
    {
      "cell_type": "code",
      "source": [
        "import time\n",
        "from pynput.mouse import Controller ,Button\n",
        "\n",
        "MouseClick = Controller()\n",
        "\n",
        "while True:\n",
        "\n",
        "    MouseClick.click(Button.left, 1)\n",
        "    time.sleep(20)"
      ],
      "metadata": {
        "id": "XyZDmbp2yqJq"
      },
      "execution_count": null,
      "outputs": []
    },
    {
      "cell_type": "markdown",
      "source": [
        "**Run code server on Google Colab or Kaggle Notebooks.**"
      ],
      "metadata": {
        "id": "5q_O4gIFTHpx"
      }
    },
    {
      "cell_type": "code",
      "source": [
        "https://github.com/abhishekkrthakur/colabcode"
      ],
      "metadata": {
        "id": "F5GSh7tU7yka"
      },
      "execution_count": null,
      "outputs": []
    },
    {
      "cell_type": "markdown",
      "source": [
        "**System information in colab**"
      ],
      "metadata": {
        "id": "VpPk3qk7Tcdx"
      }
    },
    {
      "cell_type": "code",
      "source": [
        "!nvidia-smi\n",
        "!free -h\n",
        "!lscpu"
      ],
      "metadata": {
        "id": "EAvCRfBDQqDi"
      },
      "execution_count": null,
      "outputs": []
    },
    {
      "cell_type": "markdown",
      "source": [
        "**Ram overflows in colab**"
      ],
      "metadata": {
        "id": "fysei7OgRNJ5"
      }
    },
    {
      "cell_type": "code",
      "source": [
        "mem = []\n",
        "while True:\n",
        "    mem.append(' ' * 10**6)"
      ],
      "metadata": {
        "id": "9zjCQUUHQqJk"
      },
      "execution_count": null,
      "outputs": []
    },
    {
      "cell_type": "markdown",
      "source": [
        "**Running colab not associated with a user account**"
      ],
      "metadata": {
        "id": "1NsQgIyVQRbU"
      }
    },
    {
      "cell_type": "code",
      "source": [
        "https://colab.research.google.com/notebooks/empty.ipynb"
      ],
      "metadata": {
        "id": "y5pbdgz_QqHN"
      },
      "execution_count": null,
      "outputs": []
    },
    {
      "cell_type": "markdown",
      "source": [
        "**Running dtel in colab**"
      ],
      "metadata": {
        "id": "AFmNjYapPryk"
      }
    },
    {
      "cell_type": "code",
      "source": [
        "! pip install -U dtale\n",
        "! pip install statsmodels --upgrade\n",
        "\n",
        "import dtale\n",
        "import dtale.app as dtale_app\n",
        "dtale_app.USE_COLAB = True"
      ],
      "metadata": {
        "id": "f2rzHPn9PeDr"
      },
      "execution_count": null,
      "outputs": []
    },
    {
      "cell_type": "markdown",
      "source": [
        "**Disk connection**"
      ],
      "metadata": {
        "id": "kzhOWPZZUAi0"
      }
    },
    {
      "cell_type": "code",
      "source": [
        "from google.colab import drive\n",
        "drive.mount('/content/drive')"
      ],
      "metadata": {
        "id": "smHEF_EWUA6L"
      },
      "execution_count": null,
      "outputs": []
    }
  ]
}